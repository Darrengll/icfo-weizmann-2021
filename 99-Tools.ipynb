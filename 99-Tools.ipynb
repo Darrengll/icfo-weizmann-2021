{
 "cells": [
  {
   "cell_type": "markdown",
   "id": "87cb46d5-bfa3-4173-b4a5-919aeddb8431",
   "metadata": {},
   "source": [
    "# Tools"
   ]
  },
  {
   "cell_type": "markdown",
   "id": "c2098507-5c2a-4a20-9880-bece8d754a8b",
   "metadata": {},
   "source": [
    "These tools are used by other notebooks. I collected them here for your convenience and to provide some explanations."
   ]
  },
  {
   "cell_type": "markdown",
   "id": "a29c9b0a-846e-4e49-b48e-bd38a8b2f675",
   "metadata": {},
   "source": [
    "## Hamiltonian diagonalization"
   ]
  },
  {
   "cell_type": "code",
   "execution_count": 6,
   "id": "4b5f7480-8a1f-4a42-89e3-4dc4ba3a9f4a",
   "metadata": {},
   "outputs": [
    {
     "name": "stdout",
     "output_type": "stream",
     "text": [
      "Overwriting tools.py\n"
     ]
    }
   ],
   "source": [
    "%%writefile tools.py\n",
    "\n",
    "from scipy.sparse.linalg import eigsh\n",
    "import numpy as np\n",
    "\n",
    "def lowest_eigenstates(H, neig):\n",
    "    \"\"\"Compute the lowest eigenstates of the Hamiltonian H.\n",
    "    \n",
    "    Arguments:\n",
    "    ----------\n",
    "    neig -- An integer denoting the number of lowest energy eigenstates\n",
    "            to compute, or a list of numbers denoting the eigenstates\n",
    "            to select (e.g. [0, 3, 5] for the ground state, 3rd excited, etc)\n",
    "    Returns:\n",
    "    --------\n",
    "    λ    -- The eigenergies, sorted\n",
    "    ψ    -- The corresponding eigenstates, as columns of this matrix.\n",
    "    \"\"\"\n",
    "    λ, ψ = eigsh(H, neig, which='SA', return_eigenvectors=True)\n",
    "    ndx = np.argsort(λ)\n",
    "    return λ[ndx], ψ[:,ndx]"
   ]
  },
  {
   "cell_type": "code",
   "execution_count": 7,
   "id": "8653184b-36ce-429f-a474-883662a7913e",
   "metadata": {},
   "outputs": [
    {
     "name": "stdout",
     "output_type": "stream",
     "text": [
      "Appending to tools.py\n"
     ]
    }
   ],
   "source": [
    "%%writefile -a tools.py\n",
    "\n",
    "def lowest_eigenvalues(H, neig):\n",
    "    \"\"\"Compute the lowest eigenstates of the Hamiltonian H.\n",
    "    \n",
    "    Arguments:\n",
    "    ----------\n",
    "    neig -- An integer denoting the number of lowest energy eigenstates\n",
    "            to compute, or a list of numbers denoting the eigenstates\n",
    "            to select (e.g. [0, 3, 5] for the ground state, 3rd excited, etc)\n",
    "    Returns:\n",
    "    --------\n",
    "    λ    -- The eigenergies, sorted\n",
    "    \"\"\"\n",
    "    λ = eigsh(H, neig, which='SA', return_eigenvectors=False)\n",
    "    return np.sort(λ)"
   ]
  },
  {
   "cell_type": "code",
   "execution_count": null,
   "id": "383a28e4-67fa-4c21-a076-28536147fc2e",
   "metadata": {},
   "outputs": [],
   "source": []
  }
 ],
 "metadata": {
  "kernelspec": {
   "display_name": "Python 3",
   "language": "python",
   "name": "python3"
  },
  "language_info": {
   "codemirror_mode": {
    "name": "ipython",
    "version": 3
   },
   "file_extension": ".py",
   "mimetype": "text/x-python",
   "name": "python",
   "nbconvert_exporter": "python",
   "pygments_lexer": "ipython3",
   "version": "3.8.10"
  }
 },
 "nbformat": 4,
 "nbformat_minor": 5
}
