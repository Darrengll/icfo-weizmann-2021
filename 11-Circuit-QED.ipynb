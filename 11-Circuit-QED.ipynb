{
 "cells": [
  {
   "cell_type": "markdown",
   "id": "3722ad90-a0e7-4353-806e-ad57e8c49f39",
   "metadata": {},
   "source": [
    "# Qubit-waveguide coupling"
   ]
  },
  {
   "cell_type": "markdown",
   "id": "15344f96-03fd-4a22-a033-e77729e51131",
   "metadata": {},
   "source": [
    "In this notebook we are going to model the coupling of a superconducting qubit to a microwave guide. The model is quite generic: we will not care about the details of the transmon, replacing it with a two-level system, but we will model carefully (i) the discrete nature of the waveguide modes, and (ii) the inhomogeneity of the couplings between the qubit and the waveguide. The first feature appears in nano-photonic systems, but the second one is less relevant, for reasons that will become obvious below."
   ]
  },
  {
   "cell_type": "markdown",
   "id": "e7c42511-12b2-4924-8d24-9b0a602bc9b4",
   "metadata": {},
   "source": [
    "## Qubit-cavity coupling"
   ]
  },
  {
   "cell_type": "markdown",
   "id": "3c8dee60-0ae4-4536-af9e-472fd4ad0188",
   "metadata": {},
   "source": [
    "Our starting point for this modelization, will be the interaction between a two-level system and a cavity. We will write down the Hamiltonian in the rotating-wave approximation (RWA) as\n",
    "$$H = \\frac{\\Delta}{2}\\sigma^z + \\omega a^\\dagger a + g (\\sigma^+ a + \\sigma^- a^\\dagger).$$"
   ]
  },
  {
   "cell_type": "markdown",
   "id": "8f1ac236-7a76-41a0-8b76-85440b185ae5",
   "metadata": {},
   "source": [
    "Note that in this picture, the total number of excitations in the qubit and the cavity are conserved:\n",
    "$$N := \\frac{1}{2}(\\sigma^z+1) + a^\\dagger a$$\n",
    "$$[H,N]=0$$"
   ]
  },
  {
   "cell_type": "markdown",
   "id": "b556052b-1302-4f39-b31f-8add357e9086",
   "metadata": {},
   "source": [
    "**Exercise 1:** Create a function that constructs the previous Hamiltonian as a sparse matrix, considering up to $n_{max}$ excitations in the cavity subspace."
   ]
  },
  {
   "cell_type": "markdown",
   "id": "73f21d4c-8824-473d-987e-79264c7ccf67",
   "metadata": {},
   "source": [
    "When using two excitations, if you choose the right order, you should obtain something like\n",
    "```\n",
    "print(Hcqed(nmax=2).todense())\n",
    "=>\n",
    "[[ 0.5         0.          0.          0.          0.01        0.        ]\n",
    " [ 0.          1.5         0.          0.          0.          0.01414214]\n",
    " [ 0.          0.          2.5         0.          0.          0.        ]\n",
    " [ 0.          0.          0.         -0.5         0.          0.        ]\n",
    " [ 0.01        0.          0.          0.          0.5         0.        ]\n",
    " [ 0.          0.01414214  0.          0.          0.          1.5       ]]\n",
    "```"
   ]
  },
  {
   "cell_type": "markdown",
   "id": "60691ade-314e-4bc7-8a7b-82dbe1175947",
   "metadata": {},
   "source": [
    "**Hint 1:** To make a tensor product of operators $A \\otimes B$ you can use `scipy.sparse.kron(A, B)`."
   ]
  },
  {
   "cell_type": "markdown",
   "id": "0aa72bbe-3c97-4f93-892a-4f077a9d1a50",
   "metadata": {},
   "source": [
    "**Hint 2:** I like to write Greek letters for my constants. You can type them in Jupyter by writing the name in latex, like `\\Delta`, and then pressing the `<TAB>` key. Use standard Latin names if you find this uncomfortable."
   ]
  },
  {
   "cell_type": "code",
   "execution_count": null,
   "id": "289ca124-72d5-4a31-b82f-8942ec7d396a",
   "metadata": {},
   "outputs": [],
   "source": [
    "import numpy as np\n",
    "import scipy.sparse as sp\n",
    "\n",
    "def Hcqed(Δ=1.0, ω=1.0, g=0.01, nmax=1):\n",
    "    \"\"\"Construct the sparse-matrix representation for a cavity-qubit interaction\n",
    "    Hamiltonian in the RWA limit.\n",
    "    \n",
    "    Parameters\n",
    "    ----------\n",
    "    Δ    -- qubit energy gap\n",
    "    ω    -- cavity frequency\n",
    "    g    -- qubit-cavity coupling\n",
    "    nmax -- maximum number of photons\n",
    "    \"\"\"\n",
    "    \n",
    "    pass # Replace with as many lines of code as you need"
   ]
  },
  {
   "cell_type": "markdown",
   "id": "6142ee41-fe86-4fb9-b24c-5f71ee278feb",
   "metadata": {},
   "source": [
    "**Exercise 2:** Construct the excitation number operator and show that it is a conserved quantity. You can use the operator norm $\\Vert{O}\\Vert_\\infty = \\max(|O_{ij}|)$ to show that the commutator is zero."
   ]
  },
  {
   "cell_type": "code",
   "execution_count": null,
   "id": "09eab1e0-8a05-46c4-add6-ff11ff2531a4",
   "metadata": {},
   "outputs": [],
   "source": [
    "def Nexcitation(nmax=1):\n",
    "    \"\"\"Return the operator that represents the total number of excitations in\n",
    "    the cavity and the qubit, truncated up to nmax photons\"\"\"\n",
    "    \n",
    "    pass # Replace with as many lines of code as you need"
   ]
  },
  {
   "cell_type": "code",
   "execution_count": null,
   "id": "7a065d38-6f4a-4c12-a95e-e6cbcc02e94f",
   "metadata": {},
   "outputs": [],
   "source": [
    "def exercise2():\n",
    "    H = Hcqued(nmax=10)\n",
    "    N = Nexcitation(nmax=10)\n",
    "    commutator = np.linalg.norm(H @ N - N @ H)\n",
    "    print(f'Commutator norm: ||[H, N]||={np.max(np.abs(commutator))}')\n",
    "\n",
    "exercise2()"
   ]
  },
  {
   "cell_type": "markdown",
   "id": "5f6382f8-198c-46e7-8719-5619d9ee7126",
   "metadata": {},
   "source": [
    "## Qubit-waveguide coupling"
   ]
  },
  {
   "cell_type": "markdown",
   "id": "18e919cd-7234-4767-aea4-4e07829d4155",
   "metadata": {},
   "source": [
    "Microwave cavities are typically made of thin cables, called coplanar waveguides, that are printed on the 2D chip. Other times, they are made of Copper or Aluminum tubes.\n",
    "\n",
    "![Coplanar  waveguide](./figures/fig-coplanar-waveguide.png)\n",
    "\n",
    "![3D waveguide](./figures/fig-3d-waveguide.png)"
   ]
  },
  {
   "cell_type": "markdown",
   "id": "1b98fe9c-9f2e-4d5b-8e66-9780749375d9",
   "metadata": {},
   "source": [
    "In all these cases, we have a situation in which there is a large number of electromagnetic modes that can be hosted in the waveguide. We can therefor expand observables such as the voltage, using the spatial distribution of those modes and one Fock operator per each mode\n",
    "$$V(\\mathbf{x}) = \\sum_k u_k(\\mathbf{x}) \\frac{V_k}{\\sqrt{2}}(a^\\dagger_k + a_k).$$"
   ]
  },
  {
   "cell_type": "markdown",
   "id": "d65aea04-9039-4740-8760-dcc6c8c490ef",
   "metadata": {},
   "source": [
    "We can add even more information. First, because the waveguides are tight, we can approximate\n",
    "$$u_k(\\mathbf{x}) \\sim \\sqrt{\\frac{2}{d}} \\cos\\left(\\frac{\\pi n}{d} x\\right) w(y,z),$$\n",
    "with a common transverse profile $w(y,z)$ and equispaced momenta $k=\\pi n/d$ that depend on the length of the waveguide $d$ and an integer $n=1,2,\\ldots\\in \\mathbb{N}.$ Note that these modes satisfy that they are non-zero at the boundaries of the waveguide, as we expect from the accummulation of charge on the surface of the superconductor."
   ]
  },
  {
   "cell_type": "markdown",
   "id": "142c1217-6e27-4732-9692-1870db6af427",
   "metadata": {},
   "source": [
    "A second piece of information is that, because the modes of the waveguide behave as independent harmonic oscillators, the constants $V_k$ have a very precise dependence\n",
    "$$V_k \\propto \\sqrt{\\omega_k}$$\n",
    "in terms of the frequency of the respective modes."
   ]
  },
  {
   "cell_type": "markdown",
   "id": "c9d96ca5-a69d-4969-8c4b-8c42098bb2b7",
   "metadata": {},
   "source": [
    "Finally, if we work with a coplanar waveguide, the growth of the frequencies is approximately linear\n",
    "$$\\omega_k \\simeq v |k| = \\frac{1}{\\sqrt{c_0 l_0}} |k|,$$\n",
    "and given by the capacitance $c_0$ and inductance $l_0$ per unit length."
   ]
  },
  {
   "cell_type": "markdown",
   "id": "5a25d913-29dc-4dc1-8163-f64fda97312c",
   "metadata": {},
   "source": [
    "When we place a qubit in such a waveguide, we obtain a generalization of the previous model\n",
    "$$H_{wqed} = \\frac{\\Delta}{2}\\sigma^z + \\sum_k \\omega_k a_k^\\dagger a_k + \\sum_k (g_k \\sigma^+ a_k + \\mathrm{H.c.}),$$\n",
    "with constants\n",
    "$$g_k \\sim \\frac{g}{\\sqrt{d}} \\cos(k x) \\sqrt{\\omega_k}.$$"
   ]
  },
  {
   "cell_type": "markdown",
   "id": "9281c6b7-1e03-4669-98b0-85e40368496c",
   "metadata": {},
   "source": [
    "Note how the couplings seem to decrease with the length of the waveguide $d.$ This is compensated by the fact that as we decrease $d$ the spacing between modes $v\\pi/d$ is also reduced."
   ]
  },
  {
   "cell_type": "markdown",
   "id": "adb959a3-0b81-4f1f-b4f5-6031e35c07d6",
   "metadata": {},
   "source": [
    "Instead of putting in microscopic models, we can paramterize everything in terms of\n",
    "- The qubit's frequency $\\Delta$\n",
    "- The wavelength of the qubit in the waveguide $\\lambda$\n",
    "- The position of the qubit in units of this wavelength $u = x/\\lambda$\n",
    "- The coupling strength $g_{cav}$ between the qubit and a cavity of length $d=\\lambda/2$ whose fundamental mode would have $\\omega_1 = \\Delta,$ with the qubit placed at $x=0.$\n",
    "- The actual length of the waveguide measured in numbers of wavelengths $N_{\\lambda} = 2d/\\lambda.$"
   ]
  },
  {
   "cell_type": "markdown",
   "id": "ce771a45-3301-4692-967d-4fcee9936060",
   "metadata": {},
   "source": [
    "When we do so, we find that if we build that cavity of length $d=\\lambda/2$, the coupling strength is\n",
    "$$g_{cav} = \\frac{g}{\\sqrt{\\lambda/2}}\\sqrt{\\Delta},$$\n",
    "and the frequency is matched to the wavelength by\n",
    "$$\\Delta = v \\frac{\\pi}{\\lambda}.$$\n",
    "Hence, we can express the rescaled couplings and the frequency dispersion relation as\n",
    "$$k_n = \\frac{\\pi}{\\lambda} \\frac{n}{N_\\lambda},$$\n",
    "$$g_{k_n} = g_{cav}\\sqrt{\\frac{\\omega_{k_n}}{N_{\\lambda}\\Delta}}\\cos\\left(\\frac{\\pi n}{N_\\lambda} u\\right),$$\n",
    "$$\\omega_{k_n} = \\Delta \\frac{n}{N_\\lambda}.$$"
   ]
  },
  {
   "cell_type": "markdown",
   "id": "1d544df8-0a79-48fc-8cae-09ceb5d7647e",
   "metadata": {},
   "source": [
    "## Wigner-Weisskopf theory"
   ]
  },
  {
   "cell_type": "markdown",
   "id": "8bfc684f-86e4-4139-a5d1-1dc100763485",
   "metadata": {},
   "source": [
    "As we saw with the cavity, in a RWA model the total number of excitations in the qubits and photon spaces is conserved\n",
    "$$N = \\frac{1}{2}(\\sigma^z+1) + \\sum_k a^\\dagger_k a_k.$$\n",
    "If we know the number of excitations is 0, the only available state is the vacuum\n",
    "$$\\newcommand{\\ket}[1]{\\left|{#1}\\right\\rangle}\\ket{0,\\mathrm{vac}}.$$\n",
    "However, if we have one excitation, we can write down a Wigner-Weisskopf model\n",
    "$$\\ket{\\Psi} := \\psi_0\\ket{1,\\mathrm{vac}} + \\sum_{n=1}^{n_{max}} \\psi_n a_{k_n}^\\dagger\\ket{0,\\mathrm{vac}} =: \\sum_{n=0}^{n_{max}} \\psi_n \\ket{n}.$$"
   ]
  },
  {
   "cell_type": "markdown",
   "id": "50256400-7612-48a8-b7a0-3bcc71ce16be",
   "metadata": {},
   "source": [
    "A nice thing about this representation is that we can project the $H_{wqed}$ model into a matrix of size $n_{max}+1,$ noting that\n",
    "$$\\newcommand{\\bra}[1]{\\left\\langle{#1}\\right|}\\newcommand{\\ketbra}[2]{\\ket{#1}\\!\\bra{#2}}\n",
    "H_{wqed} \\sim H_{WW} = \\Delta\\ketbra{0}{0} +  \\sum_{n=1}^{n_{max}}\\omega_{k_n}\\ketbra{n}{n}\n",
    "+ \\sum_{n} (g_{k_n}\\ketbra{0}{n}+\\mathrm{H.c.}) - \\frac{\\Delta}{2}.$$"
   ]
  },
  {
   "cell_type": "markdown",
   "id": "3b2708b3-ba27-4709-8773-fe71e4099aed",
   "metadata": {},
   "source": [
    "**Exercise 3:** Demonstrate the expression for the Wigner-Weisskopf Hamiltonian by projecting $H_{wqed}$ onto a single-excitation subspace. Write down a function that takes $\\Delta, n_{max}, u_{qubit}$ and $N_\\lambda$ and returns the Wigner-Weisskopf Hamiltonian in the form of a sparse matrix with $(n_{max}+1)\\times(n_{max}+1)$ elements."
   ]
  },
  {
   "cell_type": "code",
   "execution_count": null,
   "id": "d3e2e62b-9ca2-431b-89d7-b8a1874c6b67",
   "metadata": {},
   "outputs": [],
   "source": [
    "def Hwigner(Δ, nmax, Nλ, uqubit=0):\n",
    "    \"\"\"Construct the Wigner-Weisskopf approximation for a qubit placed at\n",
    "    position uqubit, in a waveguide that is Nλ wavelengths long, for a qubit\n",
    "    with a gap Δ.\"\"\"\n",
    "    \n",
    "    pass # Replace with as many lines of code as you need"
   ]
  },
  {
   "cell_type": "markdown",
   "id": "60525f6f-99ea-4959-bfa6-0576edb152bf",
   "metadata": {},
   "source": [
    "**Exercise 4:** Simulate the dynamics of a qubit that is initially excited, with an empty waveguide\n",
    "$$\\ket{\\Psi(0)} = \\ket{1,\\mathrm{vac}}$$\n",
    "and evolves in time with the Wigner-Weisskopf model. Plot the dynamics as a function of time for different waveguide lengths $N_\\lambda.$ At some point, the qubit should begin to decay exponentially in time, simulating the spontaneous emission on the waveguide. Estimate the decay rate as a function of $N_\\lambda.$ Show that it converges and obtain is dependence with $g_{cav}.$"
   ]
  },
  {
   "cell_type": "markdown",
   "id": "02e9b6f1-13c8-4412-9dc9-7333a0f6b69b",
   "metadata": {},
   "source": [
    "**Hint 1:** You can use Scipy's expm_multiply to obtain the evolution with a constant Hamiltonian, as\n",
    "```\n",
    "def decay(T, Δ, gcav, nmax, Nλ, uqbit=0, Nsteps=100):\n",
    "    \n",
    "    H = Hwigner(Δ, gcav, nmax, Nλ, uqbit)\n",
    "    ψ0 = np.zeros(nmax+1)\n",
    "    ψ0[0] = 1.0\n",
    "    \n",
    "    δt = T/Nsteps\n",
    "    ψ = sp.linalg.expm_multiply(-1j * δt * H, ψ0, start=0, stop=T, num=Nsteps)\n",
    "    \n",
    "    return ψ\n",
    "```"
   ]
  },
  {
   "cell_type": "markdown",
   "id": "3958d254-de75-4bfa-8c24-ef02cf7b7ead",
   "metadata": {},
   "source": [
    "**Hint 2:** The decay rate should be stable with respect to $N_\\lambda$ when the waveguide is long enough that the time for the photon to reach its end is smaller than the time for the qubit to decay. However, as you increase the size of the waveguide, you may need to also increase the number of modes in the description, so that the frequency of the qubit is still captured by the simulation\n",
    "![Qubit decay](./figures/fig-decay.png)"
   ]
  },
  {
   "cell_type": "markdown",
   "id": "9ea3a410-b547-4ce8-8965-27b12fb2155b",
   "metadata": {},
   "source": [
    "# Challenge"
   ]
  },
  {
   "cell_type": "markdown",
   "id": "bb3412a6-cc6a-4452-983c-1e324a2ca623",
   "metadata": {},
   "source": [
    "We are going to study a problem with two qubits, one placed at the beginning $x=0$ and one at some other point along the waveguide. We will still work within the Wigner-Weisskopf approximation, assuming that there is a single excitation in either one of the qubits or as a propagating photon."
   ]
  },
  {
   "cell_type": "markdown",
   "id": "5b4c7483-09c9-4bc9-864b-18567123505b",
   "metadata": {},
   "source": [
    "1. Derive the Wigner-Weisskopf Hamiltonian for the two qubits with the waveguide\n",
    "\n",
    "2. Study the dynamics of a situation in which the qubit 1 is excited and it relaxes, producing an excitation that may (or may not) be absorbed by qubit 2.\n",
    "\n",
    "3. Plot the dynamics for different positions of the qubit 2, measured in wavelengths. At which positions are the excitations perfectly exchanged? At which positions do the qubits ignore each other?\n",
    "\n",
    "4. Make a 2D plot of the dynamics of the photon along the waveguide as the qubits exchange excitations. Use this to illustrate the existence of a causal cone and a propagation time proportional to $|u_{qubit 2} - u_{qubit 1}|$ at which the interaction between the qubits is activated."
   ]
  },
  {
   "cell_type": "markdown",
   "id": "ccaed0ce-143e-4b4a-82b3-8d832e140c9b",
   "metadata": {},
   "source": [
    "Suggested reading: [Photon-mediated qubit interactions in one-dimensional discrete and continuous models, G. Díaz-Camacho et al, PRA 91, 063828 (2015)](https://journals.aps.org/pra/abstract/10.1103/PhysRevA.91.063828)"
   ]
  }
 ],
 "metadata": {
  "kernelspec": {
   "display_name": "Python 3",
   "language": "python",
   "name": "python3"
  },
  "language_info": {
   "codemirror_mode": {
    "name": "ipython",
    "version": 3
   },
   "file_extension": ".py",
   "mimetype": "text/x-python",
   "name": "python",
   "nbconvert_exporter": "python",
   "pygments_lexer": "ipython3",
   "version": "3.8.10"
  }
 },
 "nbformat": 4,
 "nbformat_minor": 5
}
