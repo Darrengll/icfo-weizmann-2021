{
 "cells": [
  {
   "cell_type": "markdown",
   "id": "a6b377f7-deaa-4fcf-a5f2-1c824902355f",
   "metadata": {},
   "source": [
    "# Transmon qubit"
   ]
  },
  {
   "cell_type": "markdown",
   "id": "50d70039-6a8a-4f03-9d80-1278d124def4",
   "metadata": {},
   "source": [
    "This notebook contains some useful models for superconducting circuit setups, such as charge qubits, flux qubits and combinations thereof."
   ]
  },
  {
   "cell_type": "markdown",
   "id": "d5a6477c-cafc-462c-a514-d4206805d46e",
   "metadata": {},
   "source": [
    "## Effective model"
   ]
  },
  {
   "cell_type": "markdown",
   "id": "fb963992-3de4-403e-b12e-ed7e8fa61dc4",
   "metadata": {},
   "source": [
    "A charge qubit is a superconducting circuit made of a capacitor and a Josephson junction (See Fig. a) below). The transmon is a variant of the charge qubit where the Josephson energy is much larger than the capacitive energy. This change makes the transmon less sensitive to charge and voltage fluctuations."
   ]
  },
  {
   "cell_type": "markdown",
   "id": "394ce631-4640-4e44-a69a-d850da2df0b5",
   "metadata": {},
   "source": [
    "![Charge and transmon qubits, and equivalent circuit](figures/transmon.png)"
   ]
  },
  {
   "cell_type": "markdown",
   "id": "6cfd3ea0-c830-4c26-9a91-a39436441d17",
   "metadata": {},
   "source": [
    "Following the image above, the Hamiltonian for the transmon qubit is\n",
    "$$\\hat{H}=\\frac{1}{2C_\\Sigma} (\\hat{q}-q_g)^2-E_J \\cos(\\hat{\\varphi})$$\n",
    "where $q_g=-C_g V$ is the equilibrium charge, $C_g$ is the control capacitance, $V$ the electric potential of the battery, $E_J$ the Josephson junction energy, and $C_\\Sigma$ the combined qubit and charging capacitance. $\\hat{q}$ is the charge operator of the Cooper pairs, and $\\hat{\\varphi}$ the flux operator."
   ]
  },
  {
   "cell_type": "markdown",
   "id": "4d07c069-47be-4d53-ae0e-fa58bbaefc55",
   "metadata": {},
   "source": [
    "We work with this Hamiltonian by introducing the charge number states\n",
    "$$\\hat{q} \\lvert n \\rangle = -2e n \\lvert n \\rangle, \\quad \\text{and} \\quad \\langle \\varphi \\lvert n \\rangle \\sim \\frac{1}{\\sqrt{2\\pi}} e^{-in\\varphi}$$"
   ]
  },
  {
   "cell_type": "markdown",
   "id": "06a443cc-b055-47d6-8ec4-0f24c23b7bd6",
   "metadata": {},
   "source": [
    "Using the number basis we can represent $\\cos(\\hat{\\varphi})$ as\n",
    "$$\\cos(\\hat{\\varphi})=\\frac{1}{2}\\sum_{n\\in\\mathbb{Z}} \\lvert n+1\\rangle \\langle n\\rvert + \\vert n \\rangle \\langle n+1 \\rvert$$"
   ]
  },
  {
   "cell_type": "markdown",
   "id": "feff6487-f4ed-4d9e-bcc1-4cbac5a36148",
   "metadata": {},
   "source": [
    "Then we can express the charge qubit Hamiltonian in the number representation as\n",
    "$$ H=\\sum_{n\\in\\mathbb{Z}} \\left[ 4 E_C (n-n_g)^2 \\lvert n\\rangle \\langle n\\rvert - \\frac{E_J}{2}(\\lvert n+1\\rangle \\langle n\\rvert + \\vert n \\rangle \\langle n+1 \\rvert)\\right]$$\n",
    "with the charging energy $E_C=e^2/2C_\\Sigma$."
   ]
  },
  {
   "cell_type": "markdown",
   "id": "16e332b5-ee4a-4f72-a096-491b5f4bda81",
   "metadata": {},
   "source": [
    "This operator is an infinite-dimensional matrix\n",
    "$$H = \\left(\\begin{matrix}\n",
    "\\ldots & -E_J/2 & 4E_c(-1-n_g)^2 & -E_J/2 & 0 & \\ldots\\\\\n",
    "\\ldots & 0 & -E_J/2 & 4E_c(0-n_g)^2 & -E_J/2 & \\ldots\\\\\n",
    "\\ldots & 0 & 0 & -E_J/2 & 4E_c(+1-n_g)^2 & \\ldots\n",
    "\\end{matrix}\\right)$$\n",
    "but it can be truncated to a work in a limit $-n_{max}\\leq n \\leq n_{max},$ considering enough charge states as to provide a good approximation. In this case, we can write the model as\n",
    "$$H = 4 E_C (\\bar{N}-n_g)^2 - \\frac{1}{2}E_J (\\bar{S}^+ + \\bar{S}^-),$$\n",
    "with finite dimensional matrices $\\bar{N}$ for the number of charges, and charge raising and lowering operators $\\bar{S}^\\pm.$"
   ]
  },
  {
   "cell_type": "markdown",
   "id": "09056a67-a415-4be3-87e4-bedbc52ec091",
   "metadata": {},
   "source": [
    "## Effective Hamiltonian"
   ]
  },
  {
   "cell_type": "markdown",
   "id": "e1c495b5-02b4-4edd-860a-71d92f6db518",
   "metadata": {},
   "source": [
    "**Exercise 1:** Using the theory above, create a function that produces the matrix of the Hamiltonian $H$ truncated for a number of charges $-n_{max}\\leq n \\leq n_{max},$ taking as inputs the Josephson energy $E_J$ (which will default to 1, being a unit of energy), the charging energy $E_C$ and the charge displacement $n_g.$"
   ]
  },
  {
   "cell_type": "code",
   "execution_count": null,
   "id": "7f9e962a-3dee-4c6d-a56c-3dbd88fbb690",
   "metadata": {},
   "outputs": [],
   "source": [
    "import numpy as np\n",
    "import scipy.sparse as sp\n",
    "\n",
    "def Htransmon(nmax, ng=0, EJ=1, EC=1/95.):\n",
    "    \"\"\"Return the sparse matrix for the Hamiltonian of a transmon qubit\n",
    "    with the given parameters.\n",
    "    \n",
    "    Parameters\n",
    "    ----------\n",
    "    nmax    -- maximum number of positive and negative charge excitations\n",
    "    ng      -- charge displacement\n",
    "    EJ      -- Josephson energy (a.u.)\n",
    "    EC      -- Charging energy (a.u.)\"\"\"\n",
    "    \n",
    "    pass # Replace this with the actual code"
   ]
  },
  {
   "cell_type": "markdown",
   "id": "d842dc3e-f600-4d8c-b835-57d33c31ab2c",
   "metadata": {},
   "source": [
    "**Exercise 2:** Verify that the Hamiltonian works, by ploting the three lowest energy levels of the transmon, as a function of the charge displacement, for $E_C/E_J=1,0.1$ and $0.025$. The output should look as follows:"
   ]
  },
  {
   "cell_type": "markdown",
   "id": "e9eda46a-ce8d-4f9c-a66a-3dacd3da4a8e",
   "metadata": {},
   "source": [
    "![Transmon energy levels](figures/fig-transmon-levels.png)"
   ]
  },
  {
   "cell_type": "markdown",
   "id": "6a45bde7-65a5-471f-aaf3-281a758a3659",
   "metadata": {},
   "source": [
    "Hint: use the functions in our tools file to obtain the `k` lowest eigenenergies of the matrix `H` as\n",
    "```\n",
    "E = lowest_eigenvalues(H, 5)\n",
    "```"
   ]
  },
  {
   "cell_type": "code",
   "execution_count": null,
   "id": "a0f27a22-c630-40a1-b067-41f81d1de487",
   "metadata": {},
   "outputs": [],
   "source": [
    "from tools import lowest_eigenvalues\n",
    "import matplotlib.pyplot as plt\n",
    "\n",
    "def exercise2():\n",
    "    pass\n",
    "\n",
    "exercise2()"
   ]
  },
  {
   "cell_type": "markdown",
   "id": "5c41c319-9509-4c37-a9e5-3d05dcfd724c",
   "metadata": {},
   "source": [
    "## Comparison with exact solutions "
   ]
  },
  {
   "cell_type": "markdown",
   "id": "5b684ae8-3dda-4829-ae39-a10f68da3d4e",
   "metadata": {},
   "source": [
    "A shown by [J. Koch et al, PRA 76, 042319 (2007)](https://doi.org/10.1103/PhysRevA.76.042319), the transmon eigenenergies are well approximated by the perturbative formulas\n",
    "$$E_n = -E_J + \\sqrt{8 E_c E_J}\\left(n +\\frac{1}{2}\\right) - \\frac{E_c}{12}(6n^2+6n+3).$$"
   ]
  },
  {
   "cell_type": "markdown",
   "id": "b2a2430c-1808-4e4d-a382-6612c7288330",
   "metadata": {},
   "source": [
    "This implies that we also have an estimate of the absolute and relative anharmonicities:\n",
    "$$\\alpha = (E_2-E_1) - (E_1-E_0) = \\omega_{12} - \\omega_{01} = E_2 - 2E_1 + E_0 = -E_c.$$"
   ]
  },
  {
   "cell_type": "markdown",
   "id": "ce1710da-ae29-4915-b3da-cca06a41e3b0",
   "metadata": {},
   "source": [
    "$$\\alpha_r = \\frac{\\alpha}{E_{01}} = -\\sqrt{\\frac{E_c}{8E_J}}.$$"
   ]
  },
  {
   "cell_type": "markdown",
   "id": "b6016f0f-2e30-4175-aa77-2a7de25ed5bb",
   "metadata": {},
   "source": [
    "**Exercise 3:** Plot the transmon anharmonicity as a function of $E_J/E_C,$ for $n_g=0$ and verify the previous asymptotics. The result should look as follows\n",
    "![Transmon anharmonicity](figures/fig-transmon-anharmonicity.png)"
   ]
  },
  {
   "cell_type": "code",
   "execution_count": null,
   "id": "975deecc-d98b-4d7f-b9c6-8d9435afc21b",
   "metadata": {},
   "outputs": [],
   "source": [
    "def exercise3():\n",
    "    pass\n",
    "    \n",
    "exercise3()"
   ]
  },
  {
   "cell_type": "markdown",
   "id": "281b9e0d-0fe8-4bd1-bc00-43978e28eac0",
   "metadata": {},
   "source": [
    "## Interaction with microwaves"
   ]
  },
  {
   "cell_type": "markdown",
   "id": "bae4ff1e-d40d-4bd5-85a4-a6fd26c2b7aa",
   "metadata": {},
   "source": [
    "A typical way to *drive* a transmon is to apply a time-dependent voltage or $n_g(t)$. In the linear limit\n",
    "$$H = 4 E_C (\\bar{N}-n_g(t))^2 - \\frac{1}{2}E_J (\\bar{S}^+ + \\bar{S}^-) \\sim H_{transmon} + 8 E_C n_g(t) \\bar{N},$$\n",
    "and the voltage couples to the charge operator, as expected. In some cases, that voltage $n_g(t)$ will be caused by an LC resonator or microwave cavity and then we will have a qubit-cavity coupling."
   ]
  },
  {
   "cell_type": "markdown",
   "id": "366944dc-4f15-4841-956c-c8a9ecd492f9",
   "metadata": {},
   "source": [
    "**Exercise 4:** Derive the previous equation and verify numerically that the qubit-voltage coupling term $n_g(t) \\times \\bar{N}$ has dominant matrix elements between consecutive energy levels, coupling $0\\leftrightarrow 1\\leftrightarrow 2\\leftrightarrow\\ldots.$ Verify that it can be written as $(a^\\dagger + a)$ in the picture of the anharmonic oscillator.\n",
    "Attempt to make a plot like the following one\n",
    "\n",
    "![Transmon couplings](./figures/fig-transmon-coupling.png)"
   ]
  },
  {
   "cell_type": "markdown",
   "id": "afb928cf-0189-402e-96a2-2b5d87796d6a",
   "metadata": {},
   "source": [
    "**Hint 1:** If you compute the 5 lowest eigenstates of a matrix `H` using\n",
    "```\n",
    "E, U = lowest_eigenstates(H, 5)\n",
    "```\n",
    "you can write a projection of an observable onto the eigenstate basis as\n",
    "```\n",
    "Oproj = U.T.conj() @ O @ U\n",
    "```"
   ]
  },
  {
   "cell_type": "markdown",
   "id": "76f930b7-dc26-47a6-9631-94f325afe41d",
   "metadata": {},
   "source": [
    "**Hint 2:** You can extract the $k$-th diagonal of a matrix as\n",
    "```\n",
    "np.diag(np.diag(O, k), k)\n",
    "```"
   ]
  },
  {
   "cell_type": "markdown",
   "id": "9c30ab9f-87a2-411d-8763-d89b773a6559",
   "metadata": {},
   "source": [
    "First, construct a function that, given the same parameters as a transmon, returns the coupling operator projected onto the $n_{eig}$ lowest-energy states."
   ]
  },
  {
   "cell_type": "code",
   "execution_count": null,
   "id": "1e26f28e-7203-4036-8f1f-78bb5a0cf81a",
   "metadata": {},
   "outputs": [],
   "source": [
    "from tools import lowest_eigenstates\n",
    "\n",
    "def coupling(neig, nmax, ng=0, EJ=1, EC=1/95.):\n",
    "    \"\"\"Return the charge coupling operator for a transmon projected onto\n",
    "    the neig lowest-energy eigenstates.\n",
    "    \n",
    "    Parameters\n",
    "    ----------\n",
    "    neig    -- how many states to keep\n",
    "    nmax    -- maximum number of positive and negative charge excitations\n",
    "    ng      -- charge displacement\n",
    "    EJ      -- Josephson energy (a.u.)\n",
    "    EC      -- Charging energy (a.u.)\"\"\"\n",
    "    \n",
    "    pass # Replace this with as many lines of code as you need"
   ]
  },
  {
   "cell_type": "markdown",
   "id": "ec95e040-e15f-400e-8166-779f005753ea",
   "metadata": {},
   "source": [
    "Use that code to make plots, or quantify the strength of the different elements. Try to verify whether the coupling elements behave as $a$ and $a^\\dagger$. Note that in that case, even though there are prefactors you do not control, but the transition elements between $n$ and $n+1$ must satisfy certain relations."
   ]
  },
  {
   "cell_type": "code",
   "execution_count": null,
   "id": "935438f5-5960-4a89-ba14-c12ced5e03fd",
   "metadata": {},
   "outputs": [],
   "source": [
    "def exercise4():\n",
    "    #\n",
    "    # Create the transmon Hamiltonian and diagonalize for the lowest\n",
    "    # 4 o 5 levels. Project the driving term onto those levels and\n",
    "    # provide evidence of the statement, at least in the limit in\n",
    "    # which the transmon behaves as an anharmonic oscillator\n",
    "    #\n",
    "    pass\n",
    "    \n",
    "exercise4()"
   ]
  },
  {
   "cell_type": "markdown",
   "id": "ac02ea4e-03a2-46fc-9231-7d1216209241",
   "metadata": {},
   "source": [
    "# Challenges"
   ]
  },
  {
   "cell_type": "markdown",
   "id": "8f316d48-6c52-4555-b8d0-5d034e432916",
   "metadata": {},
   "source": [
    "Feel free to address one or more of the following challenges together with your team. They are problems with open solutions."
   ]
  },
  {
   "cell_type": "markdown",
   "id": "4736c8ed-4e47-452c-b51f-40adfd6adf55",
   "metadata": {},
   "source": [
    "### Challenge 1: qubit-qubit interactions"
   ]
  },
  {
   "cell_type": "markdown",
   "id": "38176f56-f3cb-440a-83cc-dd7f8a074b96",
   "metadata": {},
   "source": [
    "Write down and diagonalize the Hamiltonian for two coupled transmons, assuming it has the linear-coupling form\n",
    "$$H = H_1 + H_2 + g \\bar{N}_1 \\bar{N}_2,$$\n",
    "where $g$ is some type of capacitive interactions and $H_{1,2}$ are the bare coupling Hamiltonians for two identical transmons.\n",
    "$\\newcommand{\\ket}[1]{\\left|{#1}\\right\\rangle}$"
   ]
  },
  {
   "cell_type": "markdown",
   "id": "e71d1a01-d3b7-44ef-8d07-8ef83b0abaa1",
   "metadata": {},
   "source": [
    "1. Can you write down an effective coupling model for the two transmons as a product of qubit operators?\n",
    "\n",
    "2. Confirm your predictions by studying the evolution of the 4 states that you can build from bare configurations of the transmons: $\\ket{0,0},$ $\\ket{0,1},$ $\\ket{1,0}$ and $\\ket{1,1}$\n",
    "\n",
    "3. Does the dynamics remain confined to the qubit subspace? Do you need to restrict the value of $g$? If so, to what limit?\n",
    "\n",
    "4. Look in the literature for useful design parameters of the transmon qubits (Hint: look for the quantum supremacy paper by Google, or recent works by A. Wallraff at ETH). What are the speed of the qubit-qubit interactions that you can achieve?"
   ]
  },
  {
   "cell_type": "markdown",
   "id": "7646b278-aac8-4166-ba21-706e8bb9a2a7",
   "metadata": {},
   "source": [
    "### Challenge 2: qubit-cavity interactions"
   ]
  },
  {
   "cell_type": "markdown",
   "id": "76619a17-9d20-4fbc-a93c-24067983f7e6",
   "metadata": {},
   "source": [
    "The Hamiltonian for the transmon coupled to a microwave cavity can be written as\n",
    "$$H = H_{transmon} + \\hbar\\omega b^\\dagger b + g \\bar{N} \\times (b^\\dagger + b),$$\n",
    "where $\\{b,b^\\dagger\\}$ are the Fock operators of the cavity. For small couplings, this model is usually approximated as the rotating-wave approximation (RWA) model\n",
    "$$H = H_{transmon} + \\hbar\\omega b^\\dagger b + \\tilde{g}(a^\\dagger b + a b^\\dagger),$$\n",
    "where $a$ and $a^\\dagger$ are the Fock operators for the transmon qubit."
   ]
  },
  {
   "cell_type": "markdown",
   "id": "95d3a558-efc2-43ad-b913-0b861c880fce",
   "metadata": {},
   "source": [
    "1. Create a function that builds the Hamiltonian $H$ in the space of the 4 lowest eigenstates of the transmon and a sufficient number of energy levels in the cavity.\n",
    "\n",
    "2. Analyze the spectrum of the combined model as a function of $\\omega.$ Show the avoided level crossings (vacuum Rabi splitting) that take place when $\\omega$ is resonant with the $\\omega_{01}:=E_1-E_0$ and $\\omega_{12}:=E_2-E_1$ transitions of the transmon. How does the splitting relate to the value of $g$?\n",
    "\n",
    "3. In doing this study, analyze for which range of couplings $g$ the RWA is a good approximation. Hint: Simulate numerically the Rabi oscillations between the transmon qubit and the cavity in the resonant case $\\omega=\\omega_{01}$, starting with a state $a^\\dagger\\ket{0,0}=\\ket{1,0}$ with an excitation in the transmon and no photon. Study the dynamics and see how well it adapts to the RWA predictions.\n",
    "\n",
    "4. In the limit in which the qubit is red-detuned from the cavity, $g/|\\omega-(E_1-E_0)|\\ll 1,$ the qubit-cavity model can be written as a dispersive model\n",
    "$$H\\simeq \\frac{\\omega_{01}}{2}\\sigma^z + (\\omega + \\chi\\sigma^z)a^\\dagger a,$$\n",
    "where $\\sigma^z=|1\\rangle\\langle 1|-|0\\rangle\\langle 0|$ is the qubit's polarization and $\\chi\\sim g^2/|\\omega-\\omega_{01}|$ is the effective coupling. Confirm numerically this finding."
   ]
  }
 ],
 "metadata": {
  "kernelspec": {
   "display_name": "Python 3",
   "language": "python",
   "name": "python3"
  },
  "language_info": {
   "codemirror_mode": {
    "name": "ipython",
    "version": 3
   },
   "file_extension": ".py",
   "mimetype": "text/x-python",
   "name": "python",
   "nbconvert_exporter": "python",
   "pygments_lexer": "ipython3",
   "version": "3.8.10"
  }
 },
 "nbformat": 4,
 "nbformat_minor": 5
}
