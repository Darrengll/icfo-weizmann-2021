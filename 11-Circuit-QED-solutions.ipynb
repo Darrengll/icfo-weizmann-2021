{
 "cells": [
  {
   "cell_type": "markdown",
   "id": "94f50698-4aea-4662-a19b-4d9303b9da98",
   "metadata": {},
   "source": [
    "# Qubit-waveguide coupling"
   ]
  },
  {
   "cell_type": "markdown",
   "id": "9a3e6086-843c-40b0-82d6-02f4de7b68a5",
   "metadata": {},
   "source": [
    "## Exercise 1"
   ]
  },
  {
   "cell_type": "code",
   "execution_count": 5,
   "id": "dcad77d6-3188-4b84-abc2-a95ba667c943",
   "metadata": {},
   "outputs": [],
   "source": [
    "import numpy as np\n",
    "import scipy.sparse as sp\n",
    "\n",
    "def Hcqed(Δ=1.0, ω=1.0, g=0.01, nmax=1):\n",
    "    \"\"\"Construct the sparse-matrix representation for a cavity-qubit interaction\n",
    "    Hamiltonian in the RWA limit.\n",
    "    \n",
    "    Parameters\n",
    "    ----------\n",
    "    Δ    -- qubit energy gap\n",
    "    ω    -- cavity frequency\n",
    "    g    -- qubit-cavity coupling\n",
    "    nmax -- maximum number of photons\n",
    "    \"\"\"\n",
    "    \n",
    "    D  = nmax+1\n",
    "    iD = sp.eye(D)\n",
    "    i2 = sp.eye(2)\n",
    "    σz = sp.csr_matrix([[1, 0], [0, -1]])\n",
    "    n  = sp.diags(np.arange(0, nmax+1), 0, shape=(D,D))\n",
    "    σp = sp.csr_matrix([[0, 1], [0, 0]])\n",
    "    σm = σp.T\n",
    "    a  = sp.diags(np.sqrt(np.arange(1, nmax+1)), 1, shape=(D,D))\n",
    "    ad = a.T\n",
    "    Hint = g*sp.kron(σp, a)\n",
    "    return (Δ/2)*sp.kron(σz, iD) + ω*sp.kron(i2, n) + Hint + Hint.T"
   ]
  },
  {
   "cell_type": "code",
   "execution_count": 6,
   "id": "4f587c84-63ac-4d96-ad6e-6ce91e369c91",
   "metadata": {},
   "outputs": [
    {
     "name": "stdout",
     "output_type": "stream",
     "text": [
      "[[ 0.5         0.          0.          0.          0.01        0.        ]\n",
      " [ 0.          1.5         0.          0.          0.          0.01414214]\n",
      " [ 0.          0.          2.5         0.          0.          0.        ]\n",
      " [ 0.          0.          0.         -0.5         0.          0.        ]\n",
      " [ 0.01        0.          0.          0.          0.5         0.        ]\n",
      " [ 0.          0.01414214  0.          0.          0.          1.5       ]]\n"
     ]
    }
   ],
   "source": [
    "print(Hcqed(nmax=2).todense())"
   ]
  },
  {
   "cell_type": "markdown",
   "id": "a08d3612-39ec-4683-9800-a0b5e11e879f",
   "metadata": {},
   "source": [
    "## Exercise 2"
   ]
  },
  {
   "cell_type": "code",
   "execution_count": 9,
   "id": "c023b7e2-b9d9-414f-8f81-f9142a65b8f1",
   "metadata": {},
   "outputs": [],
   "source": [
    "def Nexcitation(nmax=1):\n",
    "    \"\"\"Return the operator that represents the total number of excitations in\n",
    "    the cavity and the qubit, truncated up to nmax photons\"\"\"\n",
    "    D  = nmax+1\n",
    "    iD = sp.eye(D)\n",
    "    i2 = sp.eye(2)\n",
    "    σz = sp.csr_matrix([[1, 0], [0, -1]])\n",
    "    n  = sp.diags(np.arange(0, nmax+1), 0, shape=(D,D))\n",
    "    return sp.kron(0.5*(σz + i2), iD) + sp.kron(i2, n)"
   ]
  },
  {
   "cell_type": "code",
   "execution_count": 16,
   "id": "be83306e-e260-4751-b16a-26df75355609",
   "metadata": {},
   "outputs": [
    {
     "name": "stdout",
     "output_type": "stream",
     "text": [
      "Commutator norm: ||[H, N]||_inf=0.0\n"
     ]
    }
   ],
   "source": [
    "def exercise2():\n",
    "    H = Hcqed(nmax=10)\n",
    "    N = Nexcitation(nmax=10)\n",
    "    commutator = np.linalg.norm(H @ N - N @ H)\n",
    "    print(f'Commutator norm: ||[H, N]||_inf={np.max(np.abs(commutator))}')\n",
    "\n",
    "exercise2()"
   ]
  },
  {
   "cell_type": "markdown",
   "id": "826133c3-2404-4e5b-83a1-3091af18b693",
   "metadata": {},
   "source": [
    "## Exercise 3"
   ]
  },
  {
   "cell_type": "code",
   "execution_count": 32,
   "id": "13cc9c38-981b-4970-a5ea-16e83c817fe2",
   "metadata": {},
   "outputs": [],
   "source": [
    "def Hwigner(Δ, gcav, nmax, Nλ, uqubit=0):\n",
    "    \"\"\"Construct the Wigner-Weisskopf approximation for a qubit placed at\n",
    "    position uqubit, in a waveguide that is Nλ wavelengths long, for a qubit\n",
    "    with a gap Δ.\"\"\"\n",
    "    \n",
    "    ωk = [Δ * n / Nλ for n in range(1, nmax+1)]\n",
    "    gk = [gcav * np.sqrt(ω/(Δ * Nλ)) for ω in ωk]\n",
    "    \n",
    "    d = nmax+1\n",
    "    H = sp.lil_matrix((d,d))\n",
    "    H += sp.diags([Δ] + ωk, 0, shape=(d,d))\n",
    "    H[0,1:] = gk\n",
    "    H[1:,0] = gk\n",
    "    return H.tocsr()"
   ]
  },
  {
   "cell_type": "markdown",
   "id": "33824a1d-e42a-4ef8-b315-ac13d189ed57",
   "metadata": {},
   "source": [
    "## Exercise 4"
   ]
  },
  {
   "cell_type": "code",
   "execution_count": 35,
   "id": "e4e51b0f-6e6c-42cd-a798-95ae0d8ea6d8",
   "metadata": {},
   "outputs": [],
   "source": [
    "def decay(T, Δ, gcav, nmax, Nλ, uqbit=0, Nsteps=100):\n",
    "    \n",
    "    H = Hwigner(Δ, gcav, nmax, Nλ, uqbit)\n",
    "    ψ0 = np.zeros(nmax+1)\n",
    "    ψ0[0] = 1.0\n",
    "    \n",
    "    δt = T/Nsteps\n",
    "    ψ = sp.linalg.expm_multiply(-1j * δt * H, ψ0, start=0, stop=T, num=Nsteps)\n",
    "    \n",
    "    return ψ"
   ]
  },
  {
   "cell_type": "code",
   "execution_count": 59,
   "id": "862adfc6-a332-405d-b196-d616e242ea87",
   "metadata": {},
   "outputs": [],
   "source": [
    "aux1 = decay(100, 1, 0.02, 100, 50)"
   ]
  },
  {
   "cell_type": "code",
   "execution_count": 60,
   "id": "53fa32e4-e900-4d00-9698-e09eca966ca5",
   "metadata": {},
   "outputs": [],
   "source": [
    "aux2 = decay(100, 1, 0.02, 100, 75)"
   ]
  },
  {
   "cell_type": "code",
   "execution_count": 61,
   "id": "5aaeaf63-4bbe-42b7-9639-020db2e3a250",
   "metadata": {},
   "outputs": [],
   "source": [
    "aux3 = decay(100, 1, 0.02, 200, 100)"
   ]
  },
  {
   "cell_type": "code",
   "execution_count": 63,
   "id": "2b995c9e-ff74-4f02-ba27-7eb3e9ff0fac",
   "metadata": {},
   "outputs": [
    {
     "data": {
      "image/png": "[encoded data removed]",
      "text/plain": [
       "<Figure size 432x288 with 1 Axes>"
      ]
     },
     "metadata": {
      "needs_background": "light"
     },
     "output_type": "display_data"
    }
   ],
   "source": [
    "plt.plot(np.abs(aux1[:,0])**2, label=r'$N_\\lambda=50, n_{max}=100$')\n",
    "plt.plot(np.abs(aux2[:,0])**2, label=r'$N_\\lambda=75, n_{max}=100$')\n",
    "plt.plot(np.abs(aux3[:,0])**2, label=r'$N_\\lambda=100, n_{max}=100$')\n",
    "plt.xlabel(r't')\n",
    "plt.ylabel(r'$|\\psi_0|^2$')\n",
    "plt.legend()\n",
    "plt.savefig('./figures/fig-decay.png')"
   ]
  }
 ],
 "metadata": {
  "kernelspec": {
   "display_name": "Python 3",
   "language": "python",
   "name": "python3"
  },
  "language_info": {
   "codemirror_mode": {
    "name": "ipython",
    "version": 3
   },
   "file_extension": ".py",
   "mimetype": "text/x-python",
   "name": "python",
   "nbconvert_exporter": "python",
   "pygments_lexer": "ipython3",
   "version": "3.8.10"
  }
 },
 "nbformat": 4,
 "nbformat_minor": 5
}
